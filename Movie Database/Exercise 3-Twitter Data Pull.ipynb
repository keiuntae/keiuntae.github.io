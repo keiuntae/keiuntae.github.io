{
 "cells": [
  {
   "cell_type": "markdown",
   "id": "89e5a633",
   "metadata": {},
   "source": [
    "# Exercise 3-Twitter Data Pull "
   ]
  },
  {
   "cell_type": "markdown",
   "id": "c30ccba8",
   "metadata": {},
   "source": [
    "### Keiuntae Smith\n",
    "### 11 May 2022 \n",
    "### DSC 540 Data Preparation "
   ]
  },
  {
   "cell_type": "code",
   "execution_count": 11,
   "id": "ad45daa2",
   "metadata": {},
   "outputs": [
    {
     "name": "stdout",
     "output_type": "stream",
     "text": [
      "Requirement already satisfied: python-twitter in /Users/keiuntaesmith/opt/anaconda3/lib/python3.9/site-packages (3.5)\n",
      "Requirement already satisfied: future in /Users/keiuntaesmith/opt/anaconda3/lib/python3.9/site-packages (from python-twitter) (0.18.2)\n",
      "Requirement already satisfied: requests-oauthlib in /Users/keiuntaesmith/opt/anaconda3/lib/python3.9/site-packages (from python-twitter) (1.3.1)\n",
      "Requirement already satisfied: requests in /Users/keiuntaesmith/opt/anaconda3/lib/python3.9/site-packages (from python-twitter) (2.26.0)\n",
      "Requirement already satisfied: certifi>=2017.4.17 in /Users/keiuntaesmith/opt/anaconda3/lib/python3.9/site-packages (from requests->python-twitter) (2021.10.8)\n",
      "Requirement already satisfied: urllib3<1.27,>=1.21.1 in /Users/keiuntaesmith/opt/anaconda3/lib/python3.9/site-packages (from requests->python-twitter) (1.26.7)\n",
      "Requirement already satisfied: charset-normalizer~=2.0.0 in /Users/keiuntaesmith/opt/anaconda3/lib/python3.9/site-packages (from requests->python-twitter) (2.0.4)\n",
      "Requirement already satisfied: idna<4,>=2.5 in /Users/keiuntaesmith/opt/anaconda3/lib/python3.9/site-packages (from requests->python-twitter) (3.2)\n",
      "Requirement already satisfied: oauthlib>=3.0.0 in /Users/keiuntaesmith/opt/anaconda3/lib/python3.9/site-packages (from requests-oauthlib->python-twitter) (3.2.0)\n"
     ]
    }
   ],
   "source": [
    "#install the python-twitter library\n",
    "!pip install python-twitter "
   ]
  },
  {
   "cell_type": "code",
   "execution_count": 12,
   "id": "6f761433",
   "metadata": {},
   "outputs": [],
   "source": [
    "#import the twitter library\n",
    "import twitter"
   ]
  },
  {
   "cell_type": "code",
   "execution_count": 7,
   "id": "e72ad7e4",
   "metadata": {},
   "outputs": [],
   "source": [
    "#enter twitter app developer credentials (keys and tokens)\n",
    "api = twitter.Api(consumer_key='6JuSUoQ5oq3Rirmkq1ZegvFap',\n",
    "  consumer_secret='56eizOVIgWY78CugPyzr9NcbatITnkSLbKW8Ze5ibueJkCw0eF',\n",
    "    access_token_key='1526568329036562434-5AruRnaSavA5M6Yfoq9tR2kNk11tCX',\n",
    "    access_token_secret='43G4vZnrTSLzBxkxOUYvT2eJMMM4DEYzo2dP5jyZds3z8')"
   ]
  },
  {
   "cell_type": "code",
   "execution_count": 8,
   "id": "ff51e1d0",
   "metadata": {},
   "outputs": [
    {
     "name": "stdout",
     "output_type": "stream",
     "text": [
      "{\"created_at\": \"Tue May 17 14:20:44 +0000 2022\", \"default_profile\": true, \"default_profile_image\": true, \"friends_count\": 2, \"id\": 1526568329036562434, \"id_str\": \"1526568329036562434\", \"name\": \"keiuntae\", \"profile_background_color\": \"F5F8FA\", \"profile_image_url\": \"http://abs.twimg.com/sticky/default_profile_images/default_profile_normal.png\", \"profile_image_url_https\": \"https://abs.twimg.com/sticky/default_profile_images/default_profile_normal.png\", \"profile_link_color\": \"1DA1F2\", \"profile_sidebar_border_color\": \"C0DEED\", \"profile_sidebar_fill_color\": \"DDEEF6\", \"profile_text_color\": \"333333\", \"profile_use_background_image\": true, \"screen_name\": \"keiuntae2\", \"withheld_in_countries\": []}\n"
     ]
    }
   ],
   "source": [
    "# Display the API credentials \n",
    "print(api.VerifyCredentials())"
   ]
  },
  {
   "cell_type": "code",
   "execution_count": 21,
   "id": "a25a0426",
   "metadata": {},
   "outputs": [
    {
     "data": {
      "text/plain": [
       "[Status(ID=1526673432250834947, ScreenName=Bellevue_Times, Created=Tue May 17 21:18:05 +0000 2022, Text='RT @drronyortega: Congratulations to Ayite D’Almeida (aka as D @OPS_BryanHigh) on qualifying for state track and signing with Nebraska Wesl…'),\n",
       " Status(ID=1526651991983656961, ScreenName=NEGoldDaly18U, Created=Tue May 17 19:52:53 +0000 2022, Text='RT @nefury00: The list is growing and not many spots left. University of Sioux Falls, Northern State, Southwest Minnesota State, Midland, B…'),\n",
       " Status(ID=1526596516877672449, ScreenName=crishm, Created=Tue May 17 16:12:27 +0000 2022, Text=\"I'm supporting @BellevueU on #DoGoodDays and hope you will, too https://t.co/DYeuyzFq7L\"),\n",
       " Status(ID=1526392049993674752, ScreenName=UFAThunder, Created=Tue May 17 02:39:58 +0000 2022, Text='RT @nefury00: The list is growing and not many spots left. University of Sioux Falls, Northern State, Southwest Minnesota State, Midland, B…'),\n",
       " Status(ID=1526391806228832256, ScreenName=papiosoftball, Created=Tue May 17 02:39:00 +0000 2022, Text='RT @nefury00: The list is growing and not many spots left. University of Sioux Falls, Northern State, Southwest Minnesota State, Midland, B…'),\n",
       " Status(ID=1526387383737978880, ScreenName=clperky5264, Created=Tue May 17 02:21:25 +0000 2022, Text='RT @nefury00: The list is growing and not many spots left. University of Sioux Falls, Northern State, Southwest Minnesota State, Midland, B…'),\n",
       " Status(ID=1526369550786232320, ScreenName=NEFuryFastpitch, Created=Tue May 17 01:10:34 +0000 2022, Text='RT @nefury00: The list is growing and not many spots left. University of Sioux Falls, Northern State, Southwest Minnesota State, Midland, B…'),\n",
       " Status(ID=1526367128441470980, ScreenName=FauxUnzi, Created=Tue May 17 01:00:56 +0000 2022, Text='RT @nefury00: The list is growing and not many spots left. University of Sioux Falls, Northern State, Southwest Minnesota State, Midland, B…'),\n",
       " Status(ID=1526356069928288257, ScreenName=MillardNorthSB, Created=Tue May 17 00:17:00 +0000 2022, Text='RT @nefury00: The list is growing and not many spots left. University of Sioux Falls, Northern State, Southwest Minnesota State, Midland, B…'),\n",
       " Status(ID=1526351991991042051, ScreenName=QBHitList, Created=Tue May 17 00:00:47 +0000 2022, Text='🚨🚨OFFER ALERT!!🚨🚨Congrats!! @QBHitList Premium 2024 QB @DanielKaelin5 Bellevue West Hs(NE) has just picked up an of… https://t.co/s0FlWquiSu')]"
      ]
     },
     "execution_count": 21,
     "metadata": {},
     "output_type": "execute_result"
    }
   ],
   "source": [
    "#display data searching for \"Bellevue University\"\n",
    "api.GetSearch(term='Bellevue University', since=2022-5-1, count=10)"
   ]
  },
  {
   "cell_type": "code",
   "execution_count": 20,
   "id": "37b71774",
   "metadata": {},
   "outputs": [
    {
     "data": {
      "text/plain": [
       "[Status(ID=1526337705973530624, ScreenName=AP, Created=Mon May 16 23:04:01 +0000 2022, Text='The official U.S. toll is based on death certificate data compiled by the CDC. But the real number of lives lost to… https://t.co/vS9zxljN7p'),\n",
       " Status(ID=1526059376020160512, ScreenName=KirkDBorne, Created=Mon May 16 04:38:02 +0000 2022, Text='[Free PDF Download] Introduction to #Probability for Data Science: https://t.co/L51j3udY5j by @stanley_h_chan \\n————… https://t.co/T2BO6gg864'),\n",
       " Status(ID=1526117750174756866, ScreenName=ivybarley, Created=Mon May 16 08:30:00 +0000 2022, Text='Got data science questions or need feedback on your data science projects?\\n \\nSet your reminder for our Data Science… https://t.co/DwZDC6VoUR'),\n",
       " Status(ID=1526716491181305856, ScreenName=DrKaylaHIED, Created=Wed May 18 00:09:11 +0000 2022, Text='RT @Higher_Ed_Frank: New paper on gender wage gaps in middle-income countries! We use World Bank data to examine gendered differences in ed…'),\n",
       " Status(ID=1526716433383755776, ScreenName=blaurent123, Created=Wed May 18 00:08:57 +0000 2022, Text=\"RT @DominoDataLab: When you're in a highly regulated industry, managing models and #datascience teams presents special challenges. Anju Gup…\"),\n",
       " Status(ID=1526716203707666432, ScreenName=wavetop, Created=Wed May 18 00:08:02 +0000 2022, Text='RT @wonrobot: Excited to win 2nd place Award at 2022 International Science and Engineering Fair, Earth and Environmental Science category f…'),\n",
       " Status(ID=1526716189371924480, ScreenName=richyrichmelb, Created=Wed May 18 00:07:59 +0000 2022, Text='@newscomauHQ Australia is doomed to be like the tyrannical dictatorship Labor runs in Victoria if Albo wins, it wil… https://t.co/NKTFPHVxrH'),\n",
       " Status(ID=1526716130194341888, ScreenName=c_antolic, Created=Wed May 18 00:07:45 +0000 2022, Text='https://t.co/WIVxxSKAyv'),\n",
       " Status(ID=1526716121323298818, ScreenName=esMktDigital, Created=Wed May 18 00:07:42 +0000 2022, Text='5 Tips for Acing Your First Data Science Interview by @1abidaliawan https://t.co/asCJNdAtCI'),\n",
       " Status(ID=1526716118513004544, ScreenName=mittromneymilf, Created=Wed May 18 00:07:42 +0000 2022, Text='data science has taught me i could become a tech tycoon by using python and googling any command i’d ever need to use')]"
      ]
     },
     "execution_count": 20,
     "metadata": {},
     "output_type": "execute_result"
    }
   ],
   "source": [
    "#display data searching for \"Data Science\"\n",
    "api.GetSearch(term='Data Science', since=2022-5-1, count=10)"
   ]
  },
  {
   "cell_type": "code",
   "execution_count": 22,
   "id": "67211731",
   "metadata": {},
   "outputs": [
    {
     "data": {
      "text/plain": [
       "[Status(ID=1526288844814966789, ScreenName=realmadrid, Created=Mon May 16 19:49:52 +0000 2022, Text='Enhorabuena a nuestro socio de honor @luka7doncic por liderar a @dallasmavs en su pase a la final del Oeste ante el… https://t.co/aneteNC7Ar'),\n",
       " Status(ID=1526041910481424385, ScreenName=jimrome, Created=Mon May 16 03:28:38 +0000 2022, Text='Btw, the NHL playoffs were so much better than the NBA action this wknd.  So.  Much.  Better.'),\n",
       " Status(ID=1526238567533617152, ScreenName=celtics, Created=Mon May 16 16:30:05 +0000 2022, Text='On to the next one.\\n\\n🎟️: https://t.co/dsEMjvAZD4 https://t.co/uWrsnij3Rj'),\n",
       " Status(ID=1526716664402038784, ScreenName=reddit2stream, Created=Wed May 18 00:09:52 +0000 2022, Text='RT @faststreamtv: 𝐖𝐀𝐓𝐂𝐇 𝐋𝐢𝐯𝐞 𝐕𝐈𝐀📺 \\n@nbastreamsclub\\n\\nWatch 2022 NBA Playoffs Game 1 Live Streams Online Free #NBAStreams \\n\\n🆚Boston Celtics v…'),\n",
       " Status(ID=1526716635804880896, ScreenName=crack2stream, Created=Wed May 18 00:09:45 +0000 2022, Text='RT @faststreamtv: 𝐖𝐀𝐓𝐂𝐇 𝐋𝐢𝐯𝐞 𝐕𝐈𝐀📺 \\n@nbastreamsclub\\n\\nWatch 2022 NBA Playoffs Game 1 Live Streams Online Free #NBAStreams \\n\\n🆚Boston Celtics v…'),\n",
       " Status(ID=1526716627617828869, ScreenName=Leek_CEO, Created=Wed May 18 00:09:43 +0000 2022, Text='RT @NBA: Jimmy Butler these Playoffs:\\n\\n🔥 28.7 PPG\\n🔥 7.6 RPG\\n🔥 5.4 APG\\n🔥 2.1 SPG\\n🔥 52.5 FG%\\n\\nThe @MiamiHEAT host Boston in Game 1 of the Eas…'),\n",
       " Status(ID=1526716627298967553, ScreenName=LeonardLion_O, Created=Wed May 18 00:09:43 +0000 2022, Text='RT @NBAPR: Most-viewed NBA Playoffs through Conference Semifinals in eight years: https://t.co/2rDQS4CNhO'),\n",
       " Status(ID=1526716616402247680, ScreenName=Husky_Turned, Created=Wed May 18 00:09:41 +0000 2022, Text='@TylerJamesNBA *was wondering when the government would start making a difference in the NBA playoffs'),\n",
       " Status(ID=1526716609116905472, ScreenName=stream2watchtv, Created=Wed May 18 00:09:39 +0000 2022, Text='RT @faststreamtv: 𝐖𝐀𝐓𝐂𝐇 𝐋𝐢𝐯𝐞 𝐕𝐈𝐀📺 \\n@nbastreamsclub\\n\\nWatch 2022 NBA Playoffs Game 1 Live Streams Online Free #NBAStreams \\n\\n🆚Boston Celtics v…'),\n",
       " Status(ID=1526716589504139266, ScreenName=N__S__Robertson, Created=Wed May 18 00:09:34 +0000 2022, Text='RT @NBA: Jimmy Butler these Playoffs:\\n\\n🔥 28.7 PPG\\n🔥 7.6 RPG\\n🔥 5.4 APG\\n🔥 2.1 SPG\\n🔥 52.5 FG%\\n\\nThe @MiamiHEAT host Boston in Game 1 of the Eas…')]"
      ]
     },
     "execution_count": 22,
     "metadata": {},
     "output_type": "execute_result"
    }
   ],
   "source": [
    "#display data searching for \"NBA Playoffs\"\n",
    "api.GetSearch(term='NBA Playoffs', since=2022-5-1, count=10)"
   ]
  },
  {
   "cell_type": "code",
   "execution_count": null,
   "id": "9ae1cf0d",
   "metadata": {},
   "outputs": [],
   "source": []
  }
 ],
 "metadata": {
  "kernelspec": {
   "display_name": "Python 3 (ipykernel)",
   "language": "python",
   "name": "python3"
  },
  "language_info": {
   "codemirror_mode": {
    "name": "ipython",
    "version": 3
   },
   "file_extension": ".py",
   "mimetype": "text/x-python",
   "name": "python",
   "nbconvert_exporter": "python",
   "pygments_lexer": "ipython3",
   "version": "3.9.7"
  },
  "varInspector": {
   "cols": {
    "lenName": 16,
    "lenType": 16,
    "lenVar": 40
   },
   "kernels_config": {
    "python": {
     "delete_cmd_postfix": "",
     "delete_cmd_prefix": "del ",
     "library": "var_list.py",
     "varRefreshCmd": "print(var_dic_list())"
    },
    "r": {
     "delete_cmd_postfix": ") ",
     "delete_cmd_prefix": "rm(",
     "library": "var_list.r",
     "varRefreshCmd": "cat(var_dic_list()) "
    }
   },
   "types_to_exclude": [
    "module",
    "function",
    "builtin_function_or_method",
    "instance",
    "_Feature"
   ],
   "window_display": false
  }
 },
 "nbformat": 4,
 "nbformat_minor": 5
}
