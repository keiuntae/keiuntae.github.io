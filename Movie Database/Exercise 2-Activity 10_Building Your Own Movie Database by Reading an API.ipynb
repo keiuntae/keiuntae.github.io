{
 "cells": [
  {
   "cell_type": "markdown",
   "id": "63accdfd",
   "metadata": {},
   "source": [
    "### Keiuntae Smith\n",
    "### 11 May 2022 \n",
    "### DSC 540 Data Preparation "
   ]
  },
  {
   "cell_type": "code",
   "execution_count": 1,
   "id": "01725233",
   "metadata": {},
   "outputs": [],
   "source": [
    "# import libraries \n",
    "import urllib.request, urllib.parse, urllib.error\n",
    "import json\n",
    "from PIL import Image"
   ]
  },
  {
   "cell_type": "code",
   "execution_count": 2,
   "id": "85129ed4",
   "metadata": {},
   "outputs": [],
   "source": [
    "# Load the secret API key from a JSON file and store in the same folder into a variable\n",
    "with open('APIkeys.json') as f:\n",
    "    keys = json.load(f)\n",
    "    omdbapi = keys['OMDBapi']"
   ]
  },
  {
   "cell_type": "code",
   "execution_count": 3,
   "id": "a40f8676",
   "metadata": {},
   "outputs": [],
   "source": [
    "# Assign the portal to a variable\n",
    "base_url = 'http://www.omdbapi.com/?'\n",
    "apikey = '&apikey='+omdbapi"
   ]
  },
  {
   "cell_type": "code",
   "execution_count": 4,
   "id": "35426fd3",
   "metadata": {},
   "outputs": [],
   "source": [
    "# Write a utility function `print_json` to print nicely the movie data from a JSON file (which we will get from the portal)\n",
    "# Here are the keys of a JSON file,\n",
    "#'Title', 'Year', 'Rated', 'Released', 'Runtime', 'Genre', 'Director', 'Writer', 'Actors', 'Plot', 'Language','Country', 'Awards', 'Ratings', 'Metascore', 'imdbRating', 'imdbVotes', 'imdbID'\n",
    "\n",
    "# Define the print_json function\n",
    "def print_json(json_data):\n",
    "    list_keys=['Title', 'Year', 'Rated', 'Released', 'Runtime', 'Genre', 'Director', 'Writer', \n",
    "               'Actors', 'Plot', 'Language', 'Country', 'Awards', 'Ratings', \n",
    "               'Metascore', 'imdbRating', 'imdbVotes', 'imdbID','Poster']\n",
    "    print(\"-\"*50)\n",
    "    for k in list_keys:\n",
    "        if k in list(json_data.keys()):\n",
    "            print(f\"{k}: {json_data[k]}\")\n",
    "    print(\"-\"*50)"
   ]
  },
  {
   "cell_type": "code",
   "execution_count": 5,
   "id": "452b7b03",
   "metadata": {},
   "outputs": [],
   "source": [
    "# Define the saved_poster function\n",
    "def save_poster(json_data):\n",
    "    import os\n",
    "    title = json_data['Title']\n",
    "    poster_url = json_data['Poster']\n",
    "    # Splits the poster url by '.' and picks up the last string as file extension\n",
    "    poster_file_extension=poster_url.split('.')[-1]\n",
    "    # Reads the image file from web\n",
    "    poster_data = urllib.request.urlopen(poster_url).read()\n",
    "        \n",
    "    savelocation=os.getcwd()+'\\\\'+'Posters'+'\\\\'\n",
    "   \n",
    "    if not os.path.isdir(savelocation):\n",
    "        os.mkdir(savelocation)\n",
    "    \n",
    "    filename=savelocation+str(title)+'.'+poster_file_extension\n",
    "    f=open(filename,'wb')\n",
    "    f.write(poster_data)\n",
    "    f.close()"
   ]
  },
  {
   "cell_type": "code",
   "execution_count": 6,
   "id": "5083a433",
   "metadata": {},
   "outputs": [],
   "source": [
    "# Define the find_movie function\n",
    "def find_movie(title):\n",
    "    try:\n",
    "        url = base_url + urllib.parse.urlencode({'t': str(title)})+apikey\n",
    "        print(f'Retrieving the data of \"{title}\" now... ')\n",
    "        print(url)\n",
    "        uh = urllib.request.urlopen(url)\n",
    "        data = uh.read()\n",
    "        json_data=json.loads(data)\n",
    "        \n",
    "        if json_data['Response']=='True':\n",
    "            print_json(json_data)\n",
    "            # Asks user whether to download the poster of the movie\n",
    "            if json_data['Poster']!='N/A':\n",
    "                save_poster(json_data)\n",
    "        else:\n",
    "            print(\"Error encountered: \",json_data['Error'])\n",
    "    \n",
    "    except urllib.error.URLError as e:\n",
    "        print(f\"ERROR: {e.reason}\")"
   ]
  },
  {
   "cell_type": "code",
   "execution_count": 7,
   "id": "d2f6ea6d",
   "metadata": {},
   "outputs": [
    {
     "name": "stdout",
     "output_type": "stream",
     "text": [
      "Retrieving the data of \"Titanic\" now... \n",
      "http://www.omdbapi.com/?t=Titanic&apikey=d4147f6a\n",
      "--------------------------------------------------\n",
      "Title: Titanic\n",
      "Year: 1997\n",
      "Rated: PG-13\n",
      "Released: 19 Dec 1997\n",
      "Runtime: 194 min\n",
      "Genre: Drama, Romance\n",
      "Director: James Cameron\n",
      "Writer: James Cameron\n",
      "Actors: Leonardo DiCaprio, Kate Winslet, Billy Zane\n",
      "Plot: A seventeen-year-old aristocrat falls in love with a kind but poor artist aboard the luxurious, ill-fated R.M.S. Titanic.\n",
      "Language: English, Swedish, Italian, French\n",
      "Country: United States, Mexico\n",
      "Awards: Won 11 Oscars. 125 wins & 83 nominations total\n",
      "Ratings: [{'Source': 'Internet Movie Database', 'Value': '7.9/10'}, {'Source': 'Rotten Tomatoes', 'Value': '87%'}, {'Source': 'Metacritic', 'Value': '75/100'}]\n",
      "Metascore: 75\n",
      "imdbRating: 7.9\n",
      "imdbVotes: 1,131,404\n",
      "imdbID: tt0120338\n",
      "Poster: https://m.media-amazon.com/images/M/MV5BMDdmZGU3NDQtY2E5My00ZTliLWIzOTUtMTY4ZGI1YjdiNjk3XkEyXkFqcGdeQXVyNTA4NzY1MzY@._V1_SX300.jpg\n",
      "--------------------------------------------------\n"
     ]
    }
   ],
   "source": [
    "# Search for 'Titanic' movie\n",
    "find_movie(\"Titanic\")"
   ]
  },
  {
   "cell_type": "markdown",
   "id": "f57d908b",
   "metadata": {},
   "source": [
    "#Display Image\n",
    "%%html\n",
    "<img src= 'https://m.media-amazon.com/images/M/MV5BMDdmZGU3NDQtY2E5My00ZTliLWIzOTUtMTY4ZGI1YjdiNjk3XkEyXkFqcGdeQXVyNTA4NzY1MzY@._V1_SX300.jpg'>"
   ]
  },
  {
   "cell_type": "code",
   "execution_count": 8,
   "id": "f5a20d69",
   "metadata": {},
   "outputs": [
    {
     "name": "stdout",
     "output_type": "stream",
     "text": [
      "Retrieving the data of \"The Godfather\" now... \n",
      "http://www.omdbapi.com/?t=The+Godfather&apikey=d4147f6a\n",
      "--------------------------------------------------\n",
      "Title: The Godfather\n",
      "Year: 1972\n",
      "Rated: R\n",
      "Released: 24 Mar 1972\n",
      "Runtime: 175 min\n",
      "Genre: Crime, Drama\n",
      "Director: Francis Ford Coppola\n",
      "Writer: Mario Puzo, Francis Ford Coppola\n",
      "Actors: Marlon Brando, Al Pacino, James Caan\n",
      "Plot: The aging patriarch of an organized crime dynasty in postwar New York City transfers control of his clandestine empire to his reluctant youngest son.\n",
      "Language: English, Italian, Latin\n",
      "Country: United States\n",
      "Awards: Won 3 Oscars. 31 wins & 30 nominations total\n",
      "Ratings: [{'Source': 'Internet Movie Database', 'Value': '9.2/10'}, {'Source': 'Rotten Tomatoes', 'Value': '97%'}, {'Source': 'Metacritic', 'Value': '100/100'}]\n",
      "Metascore: 100\n",
      "imdbRating: 9.2\n",
      "imdbVotes: 1,775,046\n",
      "imdbID: tt0068646\n",
      "Poster: https://m.media-amazon.com/images/M/MV5BM2MyNjYxNmUtYTAwNi00MTYxLWJmNWYtYzZlODY3ZTk3OTFlXkEyXkFqcGdeQXVyNzkwMjQ5NzM@._V1_SX300.jpg\n",
      "--------------------------------------------------\n"
     ]
    }
   ],
   "source": [
    "# Search for 'The Godfather' movie\n",
    "find_movie(\"The Godfather\")"
   ]
  },
  {
   "cell_type": "markdown",
   "id": "12109dfd",
   "metadata": {},
   "source": [
    "#Display Image\n",
    "%%html\n",
    "<img src= 'https://m.media-amazon.com/images/M/MV5BM2MyNjYxNmUtYTAwNi00MTYxLWJmNWYtYzZlODY3ZTk3OTFlXkEyXkFqcGdeQXVyNzkwMjQ5NzM@._V1_SX300.jpg'>"
   ]
  },
  {
   "cell_type": "code",
   "execution_count": 9,
   "id": "9c08cd09",
   "metadata": {},
   "outputs": [
    {
     "name": "stdout",
     "output_type": "stream",
     "text": [
      "Retrieving the data of \"Coming to America\" now... \n",
      "http://www.omdbapi.com/?t=Coming+to+America&apikey=d4147f6a\n",
      "--------------------------------------------------\n",
      "Title: Coming to America\n",
      "Year: 1988\n",
      "Rated: R\n",
      "Released: 29 Jun 1988\n",
      "Runtime: 117 min\n",
      "Genre: Comedy, Romance\n",
      "Director: John Landis\n",
      "Writer: Eddie Murphy, David Sheffield, Barry W. Blaustein\n",
      "Actors: Eddie Murphy, Paul Bates, Garcelle Beauvais\n",
      "Plot: An extremely pampered African prince travels to Queens, New York, and goes undercover to find a wife that he can respect for her intelligence and strong will.\n",
      "Language: English\n",
      "Country: United States\n",
      "Awards: Nominated for 2 Oscars. 5 wins & 5 nominations total\n",
      "Ratings: [{'Source': 'Internet Movie Database', 'Value': '7.1/10'}, {'Source': 'Rotten Tomatoes', 'Value': '73%'}, {'Source': 'Metacritic', 'Value': '47/100'}]\n",
      "Metascore: 47\n",
      "imdbRating: 7.1\n",
      "imdbVotes: 204,521\n",
      "imdbID: tt0094898\n",
      "Poster: https://m.media-amazon.com/images/M/MV5BNGZlNjdlZmMtYTg0MC00MmZkLWIyNDktYmNlOWYzMTkzYWQ1XkEyXkFqcGdeQXVyNDk3NzU2MTQ@._V1_SX300.jpg\n",
      "--------------------------------------------------\n"
     ]
    }
   ],
   "source": [
    "# Search for 'Coming to America' movie\n",
    "find_movie('Coming to America')"
   ]
  },
  {
   "cell_type": "markdown",
   "id": "0ee51d71",
   "metadata": {},
   "source": [
    "#Display Image\n",
    "%%html\n",
    "<img src= 'https://m.media-amazon.com/images/M/MV5BNGZlNjdlZmMtYTg0MC00MmZkLWIyNDktYmNlOWYzMTkzYWQ1XkEyXkFqcGdeQXVyNDk3NzU2MTQ@._V1_SX300.jpg'>"
   ]
  },
  {
   "cell_type": "code",
   "execution_count": 10,
   "id": "daf2539e",
   "metadata": {},
   "outputs": [
    {
     "name": "stdout",
     "output_type": "stream",
     "text": [
      "Retrieving the data of \"random error\" now... \n",
      "http://www.omdbapi.com/?t=random+error&apikey=d4147f6a\n",
      "Error encountered:  Movie not found!\n"
     ]
    }
   ],
   "source": [
    "# Search for Random_error to generate 'Movie not found!' error\n",
    "\n",
    "find_movie('random error')"
   ]
  }
 ],
 "metadata": {
  "kernelspec": {
   "display_name": "Python 3 (ipykernel)",
   "language": "python",
   "name": "python3"
  },
  "language_info": {
   "codemirror_mode": {
    "name": "ipython",
    "version": 3
   },
   "file_extension": ".py",
   "mimetype": "text/x-python",
   "name": "python",
   "nbconvert_exporter": "python",
   "pygments_lexer": "ipython3",
   "version": "3.9.7"
  },
  "varInspector": {
   "cols": {
    "lenName": 16,
    "lenType": 16,
    "lenVar": 40
   },
   "kernels_config": {
    "python": {
     "delete_cmd_postfix": "",
     "delete_cmd_prefix": "del ",
     "library": "var_list.py",
     "varRefreshCmd": "print(var_dic_list())"
    },
    "r": {
     "delete_cmd_postfix": ") ",
     "delete_cmd_prefix": "rm(",
     "library": "var_list.r",
     "varRefreshCmd": "cat(var_dic_list()) "
    }
   },
   "types_to_exclude": [
    "module",
    "function",
    "builtin_function_or_method",
    "instance",
    "_Feature"
   ],
   "window_display": false
  }
 },
 "nbformat": 4,
 "nbformat_minor": 5
}
