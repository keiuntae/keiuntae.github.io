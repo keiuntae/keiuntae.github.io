{
 "cells": [
  {
   "cell_type": "markdown",
   "id": "380d76c3",
   "metadata": {},
   "source": [
    "# 8.2 Exercise: Time Series Modeling"
   ]
  },
  {
   "cell_type": "markdown",
   "id": "a7d85b3c",
   "metadata": {},
   "source": [
    "### Keiuntae Smith\n",
    "### DSC630 Predictive Analysis\n",
    "### 26 July 2022"
   ]
  },
  {
   "cell_type": "code",
   "execution_count": 73,
   "id": "6c8d332a",
   "metadata": {},
   "outputs": [],
   "source": [
    "# import libraries\n",
    "import pandas as pd\n",
    "import numpy as np\n",
    "from numpy import sqrt\n",
    "import matplotlib.pyplot as plt\n",
    "import seaborn as sns\n",
    "from statsmodels.tsa.ar_model import AutoReg\n",
    "from sklearn.metrics import mean_squared_error\n",
    "from sklearn import metrics\n",
    "from datetime import datetime"
   ]
  },
  {
   "cell_type": "code",
   "execution_count": 60,
   "id": "ad9ffdda",
   "metadata": {},
   "outputs": [
    {
     "data": {
      "text/html": [
       "<div>\n",
       "<style scoped>\n",
       "    .dataframe tbody tr th:only-of-type {\n",
       "        vertical-align: middle;\n",
       "    }\n",
       "\n",
       "    .dataframe tbody tr th {\n",
       "        vertical-align: top;\n",
       "    }\n",
       "\n",
       "    .dataframe thead th {\n",
       "        text-align: right;\n",
       "    }\n",
       "</style>\n",
       "<table border=\"1\" class=\"dataframe\">\n",
       "  <thead>\n",
       "    <tr style=\"text-align: right;\">\n",
       "      <th></th>\n",
       "      <th>YEAR</th>\n",
       "      <th>JAN</th>\n",
       "      <th>FEB</th>\n",
       "      <th>MAR</th>\n",
       "      <th>APR</th>\n",
       "      <th>MAY</th>\n",
       "      <th>JUN</th>\n",
       "      <th>JUL</th>\n",
       "      <th>AUG</th>\n",
       "      <th>SEP</th>\n",
       "      <th>OCT</th>\n",
       "      <th>NOV</th>\n",
       "      <th>DEC</th>\n",
       "    </tr>\n",
       "  </thead>\n",
       "  <tbody>\n",
       "    <tr>\n",
       "      <th>0</th>\n",
       "      <td>1992</td>\n",
       "      <td>146925</td>\n",
       "      <td>147223</td>\n",
       "      <td>146805</td>\n",
       "      <td>148032</td>\n",
       "      <td>149010</td>\n",
       "      <td>149800</td>\n",
       "      <td>150761.0</td>\n",
       "      <td>151067.0</td>\n",
       "      <td>152588.0</td>\n",
       "      <td>153521.0</td>\n",
       "      <td>153583.0</td>\n",
       "      <td>155614.0</td>\n",
       "    </tr>\n",
       "    <tr>\n",
       "      <th>1</th>\n",
       "      <td>1993</td>\n",
       "      <td>157555</td>\n",
       "      <td>156266</td>\n",
       "      <td>154752</td>\n",
       "      <td>158979</td>\n",
       "      <td>160605</td>\n",
       "      <td>160127</td>\n",
       "      <td>162816.0</td>\n",
       "      <td>162506.0</td>\n",
       "      <td>163258.0</td>\n",
       "      <td>164685.0</td>\n",
       "      <td>166594.0</td>\n",
       "      <td>168161.0</td>\n",
       "    </tr>\n",
       "    <tr>\n",
       "      <th>2</th>\n",
       "      <td>1994</td>\n",
       "      <td>167518</td>\n",
       "      <td>169649</td>\n",
       "      <td>172766</td>\n",
       "      <td>173106</td>\n",
       "      <td>172329</td>\n",
       "      <td>174241</td>\n",
       "      <td>174781.0</td>\n",
       "      <td>177295.0</td>\n",
       "      <td>178787.0</td>\n",
       "      <td>180561.0</td>\n",
       "      <td>180703.0</td>\n",
       "      <td>181524.0</td>\n",
       "    </tr>\n",
       "    <tr>\n",
       "      <th>3</th>\n",
       "      <td>1995</td>\n",
       "      <td>182413</td>\n",
       "      <td>179488</td>\n",
       "      <td>181013</td>\n",
       "      <td>181686</td>\n",
       "      <td>183536</td>\n",
       "      <td>186081</td>\n",
       "      <td>185431.0</td>\n",
       "      <td>186806.0</td>\n",
       "      <td>187366.0</td>\n",
       "      <td>186565.0</td>\n",
       "      <td>189055.0</td>\n",
       "      <td>190774.0</td>\n",
       "    </tr>\n",
       "    <tr>\n",
       "      <th>4</th>\n",
       "      <td>1996</td>\n",
       "      <td>189135</td>\n",
       "      <td>192266</td>\n",
       "      <td>194029</td>\n",
       "      <td>194744</td>\n",
       "      <td>196205</td>\n",
       "      <td>196136</td>\n",
       "      <td>196187.0</td>\n",
       "      <td>196218.0</td>\n",
       "      <td>198859.0</td>\n",
       "      <td>200509.0</td>\n",
       "      <td>200174.0</td>\n",
       "      <td>201284.0</td>\n",
       "    </tr>\n",
       "  </tbody>\n",
       "</table>\n",
       "</div>"
      ],
      "text/plain": [
       "   YEAR     JAN     FEB     MAR     APR     MAY     JUN       JUL       AUG  \\\n",
       "0  1992  146925  147223  146805  148032  149010  149800  150761.0  151067.0   \n",
       "1  1993  157555  156266  154752  158979  160605  160127  162816.0  162506.0   \n",
       "2  1994  167518  169649  172766  173106  172329  174241  174781.0  177295.0   \n",
       "3  1995  182413  179488  181013  181686  183536  186081  185431.0  186806.0   \n",
       "4  1996  189135  192266  194029  194744  196205  196136  196187.0  196218.0   \n",
       "\n",
       "        SEP       OCT       NOV       DEC  \n",
       "0  152588.0  153521.0  153583.0  155614.0  \n",
       "1  163258.0  164685.0  166594.0  168161.0  \n",
       "2  178787.0  180561.0  180703.0  181524.0  \n",
       "3  187366.0  186565.0  189055.0  190774.0  \n",
       "4  198859.0  200509.0  200174.0  201284.0  "
      ]
     },
     "execution_count": 60,
     "metadata": {},
     "output_type": "execute_result"
    }
   ],
   "source": [
    "# Load the dataset\n",
    "df = pd.read_csv('us_retail_sales.csv')\n",
    "\n",
    "# Preview the dataframe\n",
    "df.head(5)"
   ]
  },
  {
   "cell_type": "code",
   "execution_count": 61,
   "id": "a0df653d",
   "metadata": {},
   "outputs": [],
   "source": [
    "#expand the dataframe \n",
    "df_2 = pd.melt(df, id_vars=['YEAR'], var_name=\"MONTH\", value_name=\"SALES\")"
   ]
  },
  {
   "cell_type": "code",
   "execution_count": 62,
   "id": "c0d4d779",
   "metadata": {},
   "outputs": [],
   "source": [
    "#convert months to numerical value\n",
    "df_2['Month'] = df_2['MONTH'].map({'JAN': 1, 'FEB': 2, 'MAR': 3, 'APR': 4,'MAY':5,'JUN':6,'JUL':7,'AUG':8,'SEP':9,'OCT':10,'NOV':11,'DEC':12})\n"
   ]
  },
  {
   "cell_type": "code",
   "execution_count": 63,
   "id": "62c297c4",
   "metadata": {},
   "outputs": [],
   "source": [
    "#create year-month-date conversion\n",
    "df_2['DATE']=pd.to_datetime(df_2[['YEAR','Month']].assign(DAY=1))"
   ]
  },
  {
   "cell_type": "code",
   "execution_count": 64,
   "id": "bcc9ecb6",
   "metadata": {},
   "outputs": [
    {
     "data": {
      "text/html": [
       "<div>\n",
       "<style scoped>\n",
       "    .dataframe tbody tr th:only-of-type {\n",
       "        vertical-align: middle;\n",
       "    }\n",
       "\n",
       "    .dataframe tbody tr th {\n",
       "        vertical-align: top;\n",
       "    }\n",
       "\n",
       "    .dataframe thead th {\n",
       "        text-align: right;\n",
       "    }\n",
       "</style>\n",
       "<table border=\"1\" class=\"dataframe\">\n",
       "  <thead>\n",
       "    <tr style=\"text-align: right;\">\n",
       "      <th></th>\n",
       "      <th>DATE</th>\n",
       "      <th>SALES</th>\n",
       "    </tr>\n",
       "  </thead>\n",
       "  <tbody>\n",
       "    <tr>\n",
       "      <th>0</th>\n",
       "      <td>1992-01-01</td>\n",
       "      <td>146925.0</td>\n",
       "    </tr>\n",
       "    <tr>\n",
       "      <th>30</th>\n",
       "      <td>1992-02-01</td>\n",
       "      <td>147223.0</td>\n",
       "    </tr>\n",
       "    <tr>\n",
       "      <th>60</th>\n",
       "      <td>1992-03-01</td>\n",
       "      <td>146805.0</td>\n",
       "    </tr>\n",
       "    <tr>\n",
       "      <th>90</th>\n",
       "      <td>1992-04-01</td>\n",
       "      <td>148032.0</td>\n",
       "    </tr>\n",
       "    <tr>\n",
       "      <th>120</th>\n",
       "      <td>1992-05-01</td>\n",
       "      <td>149010.0</td>\n",
       "    </tr>\n",
       "    <tr>\n",
       "      <th>...</th>\n",
       "      <td>...</td>\n",
       "      <td>...</td>\n",
       "    </tr>\n",
       "    <tr>\n",
       "      <th>59</th>\n",
       "      <td>2021-02-01</td>\n",
       "      <td>504458.0</td>\n",
       "    </tr>\n",
       "    <tr>\n",
       "      <th>89</th>\n",
       "      <td>2021-03-01</td>\n",
       "      <td>559871.0</td>\n",
       "    </tr>\n",
       "    <tr>\n",
       "      <th>119</th>\n",
       "      <td>2021-04-01</td>\n",
       "      <td>562269.0</td>\n",
       "    </tr>\n",
       "    <tr>\n",
       "      <th>149</th>\n",
       "      <td>2021-05-01</td>\n",
       "      <td>548987.0</td>\n",
       "    </tr>\n",
       "    <tr>\n",
       "      <th>179</th>\n",
       "      <td>2021-06-01</td>\n",
       "      <td>550782.0</td>\n",
       "    </tr>\n",
       "  </tbody>\n",
       "</table>\n",
       "<p>354 rows × 2 columns</p>\n",
       "</div>"
      ],
      "text/plain": [
       "          DATE     SALES\n",
       "0   1992-01-01  146925.0\n",
       "30  1992-02-01  147223.0\n",
       "60  1992-03-01  146805.0\n",
       "90  1992-04-01  148032.0\n",
       "120 1992-05-01  149010.0\n",
       "..         ...       ...\n",
       "59  2021-02-01  504458.0\n",
       "89  2021-03-01  559871.0\n",
       "119 2021-04-01  562269.0\n",
       "149 2021-05-01  548987.0\n",
       "179 2021-06-01  550782.0\n",
       "\n",
       "[354 rows x 2 columns]"
      ]
     },
     "execution_count": 64,
     "metadata": {},
     "output_type": "execute_result"
    }
   ],
   "source": [
    "# create dataframe with only needed columns \n",
    "df_new = df_2[['DATE','SALES']].sort_values('DATE')\n",
    "df_new = df_new.dropna()\n",
    "# preview new dataframe\n",
    "df_new"
   ]
  },
  {
   "cell_type": "markdown",
   "id": "c75bd07e",
   "metadata": {},
   "source": [
    "## Plot the data with proper labeling and make some observations on the graph."
   ]
  },
  {
   "cell_type": "code",
   "execution_count": 65,
   "id": "7d6b66fc",
   "metadata": {},
   "outputs": [
    {
     "data": {
      "image/png": "[encoded data removed]",
      "text/plain": [
       "<Figure size 1008x576 with 1 Axes>"
      ]
     },
     "metadata": {},
     "output_type": "display_data"
    }
   ],
   "source": [
    "#create an area chart to show Sales vs Date\n",
    "\n",
    "fig = plt.figure(figsize=(14,8), facecolor='black')\n",
    "plt.plot(df_new['DATE'], df_new['SALES'], linewidth=1, color='red')\n",
    "plt.fill_between(df_new['DATE'], df_new['SALES'], color='pink', alpha=0.5)\n",
    "plt.box(False)\n",
    "\n",
    "plt.title('US Retail Sales over Time', fontsize=20, color='white')\n",
    "plt.xlabel('Year', color='white', fontsize=15)\n",
    "plt.ylabel('Retail Sales (dollars) ', color='white', fontsize=15)\n",
    "plt.tick_params(axis='x', colors='white')\n",
    "plt.tick_params(axis='y', colors='white')\n",
    "plt.tight_layout()\n",
    "plt.show()"
   ]
  },
  {
   "cell_type": "code",
   "execution_count": 66,
   "id": "198881ca",
   "metadata": {},
   "outputs": [],
   "source": [
    "#set the date as the index \n",
    "datetime_index = pd.DatetimeIndex(df_new['DATE'].values)\n",
    "df_new = df_new.set_index(datetime_index)\n",
    "df_new.drop('DATE', axis=1, inplace=True)"
   ]
  },
  {
   "cell_type": "markdown",
   "id": "332f9d3b",
   "metadata": {},
   "source": [
    "The graph depicts a steady increase in retail revenue each year with an exception of 2008 and 2020.  During the years of 2007 to 2009, the economy was entering a downturn due to the great recession due to lax lending in the mortgage housing market.  In the year of 2020, the Covid-19 Pandemic slowed spending for many due to being in various lockdown situations. "
   ]
  },
  {
   "cell_type": "markdown",
   "id": "2d3dd49e",
   "metadata": {},
   "source": [
    "## Split this data into a training and test set. Use the last year of data (July 2020 – June 2021) of data as your test set and the rest as your training set."
   ]
  },
  {
   "cell_type": "code",
   "execution_count": 67,
   "id": "d379dce6",
   "metadata": {},
   "outputs": [
    {
     "data": {
      "text/html": [
       "<div>\n",
       "<style scoped>\n",
       "    .dataframe tbody tr th:only-of-type {\n",
       "        vertical-align: middle;\n",
       "    }\n",
       "\n",
       "    .dataframe tbody tr th {\n",
       "        vertical-align: top;\n",
       "    }\n",
       "\n",
       "    .dataframe thead th {\n",
       "        text-align: right;\n",
       "    }\n",
       "</style>\n",
       "<table border=\"1\" class=\"dataframe\">\n",
       "  <thead>\n",
       "    <tr style=\"text-align: right;\">\n",
       "      <th></th>\n",
       "      <th>SALES</th>\n",
       "    </tr>\n",
       "  </thead>\n",
       "  <tbody>\n",
       "    <tr>\n",
       "      <th>2020-07-01</th>\n",
       "      <td>481627.0</td>\n",
       "    </tr>\n",
       "    <tr>\n",
       "      <th>2020-08-01</th>\n",
       "      <td>483716.0</td>\n",
       "    </tr>\n",
       "    <tr>\n",
       "      <th>2020-09-01</th>\n",
       "      <td>493327.0</td>\n",
       "    </tr>\n",
       "    <tr>\n",
       "      <th>2020-10-01</th>\n",
       "      <td>493991.0</td>\n",
       "    </tr>\n",
       "    <tr>\n",
       "      <th>2020-11-01</th>\n",
       "      <td>488652.0</td>\n",
       "    </tr>\n",
       "    <tr>\n",
       "      <th>2020-12-01</th>\n",
       "      <td>484782.0</td>\n",
       "    </tr>\n",
       "    <tr>\n",
       "      <th>2021-01-01</th>\n",
       "      <td>520162.0</td>\n",
       "    </tr>\n",
       "    <tr>\n",
       "      <th>2021-02-01</th>\n",
       "      <td>504458.0</td>\n",
       "    </tr>\n",
       "    <tr>\n",
       "      <th>2021-03-01</th>\n",
       "      <td>559871.0</td>\n",
       "    </tr>\n",
       "    <tr>\n",
       "      <th>2021-04-01</th>\n",
       "      <td>562269.0</td>\n",
       "    </tr>\n",
       "    <tr>\n",
       "      <th>2021-05-01</th>\n",
       "      <td>548987.0</td>\n",
       "    </tr>\n",
       "    <tr>\n",
       "      <th>2021-06-01</th>\n",
       "      <td>550782.0</td>\n",
       "    </tr>\n",
       "  </tbody>\n",
       "</table>\n",
       "</div>"
      ],
      "text/plain": [
       "               SALES\n",
       "2020-07-01  481627.0\n",
       "2020-08-01  483716.0\n",
       "2020-09-01  493327.0\n",
       "2020-10-01  493991.0\n",
       "2020-11-01  488652.0\n",
       "2020-12-01  484782.0\n",
       "2021-01-01  520162.0\n",
       "2021-02-01  504458.0\n",
       "2021-03-01  559871.0\n",
       "2021-04-01  562269.0\n",
       "2021-05-01  548987.0\n",
       "2021-06-01  550782.0"
      ]
     },
     "execution_count": 67,
     "metadata": {},
     "output_type": "execute_result"
    }
   ],
   "source": [
    "# build the test set\n",
    "test_set = df_new[df_new.index >= '2020-07-01']\n",
    "test_set"
   ]
  },
  {
   "cell_type": "code",
   "execution_count": 68,
   "id": "3e285185",
   "metadata": {},
   "outputs": [
    {
     "data": {
      "text/html": [
       "<div>\n",
       "<style scoped>\n",
       "    .dataframe tbody tr th:only-of-type {\n",
       "        vertical-align: middle;\n",
       "    }\n",
       "\n",
       "    .dataframe tbody tr th {\n",
       "        vertical-align: top;\n",
       "    }\n",
       "\n",
       "    .dataframe thead th {\n",
       "        text-align: right;\n",
       "    }\n",
       "</style>\n",
       "<table border=\"1\" class=\"dataframe\">\n",
       "  <thead>\n",
       "    <tr style=\"text-align: right;\">\n",
       "      <th></th>\n",
       "      <th>SALES</th>\n",
       "    </tr>\n",
       "  </thead>\n",
       "  <tbody>\n",
       "    <tr>\n",
       "      <th>1992-01-01</th>\n",
       "      <td>146925.0</td>\n",
       "    </tr>\n",
       "    <tr>\n",
       "      <th>1992-02-01</th>\n",
       "      <td>147223.0</td>\n",
       "    </tr>\n",
       "    <tr>\n",
       "      <th>1992-03-01</th>\n",
       "      <td>146805.0</td>\n",
       "    </tr>\n",
       "    <tr>\n",
       "      <th>1992-04-01</th>\n",
       "      <td>148032.0</td>\n",
       "    </tr>\n",
       "    <tr>\n",
       "      <th>1992-05-01</th>\n",
       "      <td>149010.0</td>\n",
       "    </tr>\n",
       "    <tr>\n",
       "      <th>...</th>\n",
       "      <td>...</td>\n",
       "    </tr>\n",
       "    <tr>\n",
       "      <th>2020-02-01</th>\n",
       "      <td>459610.0</td>\n",
       "    </tr>\n",
       "    <tr>\n",
       "      <th>2020-03-01</th>\n",
       "      <td>434281.0</td>\n",
       "    </tr>\n",
       "    <tr>\n",
       "      <th>2020-04-01</th>\n",
       "      <td>379892.0</td>\n",
       "    </tr>\n",
       "    <tr>\n",
       "      <th>2020-05-01</th>\n",
       "      <td>444631.0</td>\n",
       "    </tr>\n",
       "    <tr>\n",
       "      <th>2020-06-01</th>\n",
       "      <td>476343.0</td>\n",
       "    </tr>\n",
       "  </tbody>\n",
       "</table>\n",
       "<p>342 rows × 1 columns</p>\n",
       "</div>"
      ],
      "text/plain": [
       "               SALES\n",
       "1992-01-01  146925.0\n",
       "1992-02-01  147223.0\n",
       "1992-03-01  146805.0\n",
       "1992-04-01  148032.0\n",
       "1992-05-01  149010.0\n",
       "...              ...\n",
       "2020-02-01  459610.0\n",
       "2020-03-01  434281.0\n",
       "2020-04-01  379892.0\n",
       "2020-05-01  444631.0\n",
       "2020-06-01  476343.0\n",
       "\n",
       "[342 rows x 1 columns]"
      ]
     },
     "execution_count": 68,
     "metadata": {},
     "output_type": "execute_result"
    }
   ],
   "source": [
    "# build the train set\n",
    "train_set = df_new[df_new.index < '2020-07-01']\n",
    "train_set"
   ]
  },
  {
   "cell_type": "markdown",
   "id": "52499960",
   "metadata": {},
   "source": [
    "## Use the training set to build a predictive model for the monthly retail sales."
   ]
  },
  {
   "cell_type": "code",
   "execution_count": 69,
   "id": "3b4ea8a1",
   "metadata": {},
   "outputs": [
    {
     "name": "stderr",
     "output_type": "stream",
     "text": [
      "/Users/keiuntaesmith/opt/anaconda3/lib/python3.9/site-packages/statsmodels/tsa/base/tsa_model.py:524: ValueWarning: No frequency information was provided, so inferred frequency MS will be used.\n",
      "  warnings.warn('No frequency information was'\n",
      "/Users/keiuntaesmith/opt/anaconda3/lib/python3.9/site-packages/statsmodels/tsa/ar_model.py:248: FutureWarning: The parameter names will change after 0.12 is released. Set old_names to False to use the new names now. Set old_names to True to use the old names. \n",
      "  warnings.warn(\n"
     ]
    }
   ],
   "source": [
    "#Instantiate and fit the AR model with training data\n",
    "ar_model = AutoReg(train_set, lags=3).fit()"
   ]
  },
  {
   "cell_type": "code",
   "execution_count": 70,
   "id": "f1e24604",
   "metadata": {},
   "outputs": [
    {
     "name": "stdout",
     "output_type": "stream",
     "text": [
      "                            AutoReg Model Results                             \n",
      "==============================================================================\n",
      "Dep. Variable:                  SALES   No. Observations:                  342\n",
      "Model:                     AutoReg(3)   Log Likelihood               -3396.835\n",
      "Method:               Conditional MLE   S.D. of innovations           5438.308\n",
      "Date:                Tue, 26 Jul 2022   AIC                             17.232\n",
      "Time:                        21:06:34   BIC                             17.288\n",
      "Sample:                    04-01-1992   HQIC                            17.254\n",
      "                         - 06-01-2020                                         \n",
      "==============================================================================\n",
      "                 coef    std err          z      P>|z|      [0.025      0.975]\n",
      "------------------------------------------------------------------------------\n",
      "intercept   2087.5148   1076.084      1.940      0.052     -21.572    4196.601\n",
      "SALES.L1       0.8672      0.054     15.942      0.000       0.761       0.974\n",
      "SALES.L2      -0.3893      0.076     -5.129      0.000      -0.538      -0.241\n",
      "SALES.L3       0.5199      0.069      7.526      0.000       0.385       0.655\n",
      "                                    Roots                                    \n",
      "=============================================================================\n",
      "                  Real          Imaginary           Modulus         Frequency\n",
      "-----------------------------------------------------------------------------\n",
      "AR.1            1.0013           -0.0000j            1.0013           -0.0000\n",
      "AR.2           -0.1263           -1.3802j            1.3860           -0.2645\n",
      "AR.3           -0.1263           +1.3802j            1.3860            0.2645\n",
      "-----------------------------------------------------------------------------\n"
     ]
    },
    {
     "name": "stderr",
     "output_type": "stream",
     "text": [
      "/Users/keiuntaesmith/opt/anaconda3/lib/python3.9/site-packages/statsmodels/tsa/base/tsa_model.py:132: FutureWarning: The 'freq' argument in Timestamp is deprecated and will be removed in a future version.\n",
      "  date_key = Timestamp(key, freq=base_index.freq)\n"
     ]
    }
   ],
   "source": [
    "#print summary\n",
    "print(ar_model.summary())"
   ]
  },
  {
   "cell_type": "markdown",
   "id": "84e2da4c",
   "metadata": {},
   "source": [
    "## Use the model to predict the monthly retail sales on the last year of data."
   ]
  },
  {
   "cell_type": "code",
   "execution_count": 71,
   "id": "2b1a8197",
   "metadata": {},
   "outputs": [
    {
     "name": "stderr",
     "output_type": "stream",
     "text": [
      "/Users/keiuntaesmith/opt/anaconda3/lib/python3.9/site-packages/statsmodels/tsa/deterministic.py:147: UserWarning: Only PeriodIndexes, DatetimeIndexes with a frequency set, RangesIndexes, and Int64Indexes with a unit increment support extending. The index is set will contain the position relative to the data length.\n",
      "  warnings.warn(\n"
     ]
    },
    {
     "data": {
      "text/plain": [
       "[<matplotlib.lines.Line2D at 0x7f97c7aec3a0>]"
      ]
     },
     "execution_count": 71,
     "metadata": {},
     "output_type": "execute_result"
    },
    {
     "data": {
      "image/png": "[encoded data removed]",
      "text/plain": [
       "<Figure size 432x288 with 1 Axes>"
      ]
     },
     "metadata": {
      "needs_background": "light"
     },
     "output_type": "display_data"
    }
   ],
   "source": [
    "# Make the predictions\n",
    "pred = ar_model.predict(start=len(train_set), end=(len(df_new)-1), dynamic=False)\n",
    "\n",
    "# Plot the prediction vs test data\n",
    "from matplotlib import pyplot\n",
    "pyplot.plot(pred)\n",
    "pyplot.plot(test_set, color='red')"
   ]
  },
  {
   "cell_type": "markdown",
   "id": "2cadfa24",
   "metadata": {},
   "source": [
    "## Report the RMSE of the model predictions on the test set."
   ]
  },
  {
   "cell_type": "code",
   "execution_count": 72,
   "id": "bdfeb3e8",
   "metadata": {
    "scrolled": true
   },
   "outputs": [
    {
     "name": "stdout",
     "output_type": "stream",
     "text": [
      "Test RMSE is 72691.589\n"
     ]
    }
   ],
   "source": [
    "# Find the square root of the mean of test sales value minus the predict test sales values\n",
    "rmse = sqrt(mean_squared_error(test_set, pred))\n",
    "print('Test RMSE is %.3f' % rmse)"
   ]
  },
  {
   "cell_type": "markdown",
   "id": "e7847171",
   "metadata": {},
   "source": [
    "## Conclusion\n",
    "\n",
    "The unusual high RMSE value signifies that the autoregressive model is not optimal for this exercise. The important value is an indication of how close the predictions are to the actual values. Lower values of RMSE indicate a better fit. RMSE is a worthy measure of how accurately the model predicts the response. It can be the most important criterion for fit if the main purpose of the model is prediction.  An explanation for the gap in prediction and actual could be that there was an unusual spike in sales during the period of prediction time frame. \n",
    "\n"
   ]
  },
  {
   "cell_type": "code",
   "execution_count": null,
   "id": "5afb1452",
   "metadata": {},
   "outputs": [],
   "source": []
  }
 ],
 "metadata": {
  "kernelspec": {
   "display_name": "Python 3 (ipykernel)",
   "language": "python",
   "name": "python3"
  },
  "language_info": {
   "codemirror_mode": {
    "name": "ipython",
    "version": 3
   },
   "file_extension": ".py",
   "mimetype": "text/x-python",
   "name": "python",
   "nbconvert_exporter": "python",
   "pygments_lexer": "ipython3",
   "version": "3.9.7"
  },
  "varInspector": {
   "cols": {
    "lenName": 16,
    "lenType": 16,
    "lenVar": 40
   },
   "kernels_config": {
    "python": {
     "delete_cmd_postfix": "",
     "delete_cmd_prefix": "del ",
     "library": "var_list.py",
     "varRefreshCmd": "print(var_dic_list())"
    },
    "r": {
     "delete_cmd_postfix": ") ",
     "delete_cmd_prefix": "rm(",
     "library": "var_list.r",
     "varRefreshCmd": "cat(var_dic_list()) "
    }
   },
   "types_to_exclude": [
    "module",
    "function",
    "builtin_function_or_method",
    "instance",
    "_Feature"
   ],
   "window_display": false
  }
 },
 "nbformat": 4,
 "nbformat_minor": 5
}
